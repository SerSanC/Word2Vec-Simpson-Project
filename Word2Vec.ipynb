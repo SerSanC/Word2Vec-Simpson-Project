{
  "nbformat": 4,
  "nbformat_minor": 0,
  "metadata": {
    "colab": {
      "provenance": [],
      "collapsed_sections": [],
      "authorship_tag": "ABX9TyM89sxvd0sJ3LOJmxDDfjdB",
      "include_colab_link": true
    },
    "kernelspec": {
      "name": "python3",
      "display_name": "Python 3"
    },
    "language_info": {
      "name": "python"
    }
  },
  "cells": [
    {
      "cell_type": "markdown",
      "metadata": {
        "id": "view-in-github",
        "colab_type": "text"
      },
      "source": [
        "<a href=\"https://colab.research.google.com/github/SerSanC/Word2Vec-Simpson-Project/blob/main/Word2Vec.ipynb\" target=\"_parent\"><img src=\"https://colab.research.google.com/assets/colab-badge.svg\" alt=\"Open In Colab\"/></a>"
      ]
    },
    {
      "cell_type": "code",
      "execution_count": 1,
      "metadata": {
        "id": "gyCfFSzM4-bc"
      },
      "outputs": [],
      "source": [
        "import re  # For preprocessing\n",
        "import pandas as pd  # For data handling\n",
        "from time import time  # To time our operations\n",
        "from collections import defaultdict  # For word frequency\n",
        "from gensim.models.phrases import Phrases, Phraser\n",
        "\n",
        "import spacy  # For preprocessing\n",
        "import multiprocessing\n",
        "\n",
        "from gensim.models import Word2Vec"
      ]
    },
    {
      "cell_type": "code",
      "source": [
        "!python -m spacy download en_core_web_sm"
      ],
      "metadata": {
        "id": "LLcRCts6HWEp",
        "colab": {
          "base_uri": "https://localhost:8080/"
        },
        "outputId": "5714ebb5-3ab1-465d-edac-5c0c715a3480"
      },
      "execution_count": 2,
      "outputs": [
        {
          "output_type": "stream",
          "name": "stdout",
          "text": [
            "2022-10-18 07:07:33.395831: E tensorflow/stream_executor/cuda/cuda_driver.cc:271] failed call to cuInit: CUDA_ERROR_NO_DEVICE: no CUDA-capable device is detected\n",
            "Looking in indexes: https://pypi.org/simple, https://us-python.pkg.dev/colab-wheels/public/simple/\n",
            "Collecting en-core-web-sm==3.4.0\n",
            "  Downloading https://github.com/explosion/spacy-models/releases/download/en_core_web_sm-3.4.0/en_core_web_sm-3.4.0-py3-none-any.whl (12.8 MB)\n",
            "\u001b[K     |████████████████████████████████| 12.8 MB 3.9 MB/s \n",
            "\u001b[?25hRequirement already satisfied: spacy<3.5.0,>=3.4.0 in /usr/local/lib/python3.7/dist-packages (from en-core-web-sm==3.4.0) (3.4.1)\n",
            "Requirement already satisfied: langcodes<4.0.0,>=3.2.0 in /usr/local/lib/python3.7/dist-packages (from spacy<3.5.0,>=3.4.0->en-core-web-sm==3.4.0) (3.3.0)\n",
            "Requirement already satisfied: tqdm<5.0.0,>=4.38.0 in /usr/local/lib/python3.7/dist-packages (from spacy<3.5.0,>=3.4.0->en-core-web-sm==3.4.0) (4.64.1)\n",
            "Requirement already satisfied: setuptools in /usr/local/lib/python3.7/dist-packages (from spacy<3.5.0,>=3.4.0->en-core-web-sm==3.4.0) (57.4.0)\n",
            "Requirement already satisfied: numpy>=1.15.0 in /usr/local/lib/python3.7/dist-packages (from spacy<3.5.0,>=3.4.0->en-core-web-sm==3.4.0) (1.21.6)\n",
            "Requirement already satisfied: wasabi<1.1.0,>=0.9.1 in /usr/local/lib/python3.7/dist-packages (from spacy<3.5.0,>=3.4.0->en-core-web-sm==3.4.0) (0.10.1)\n",
            "Requirement already satisfied: pathy>=0.3.5 in /usr/local/lib/python3.7/dist-packages (from spacy<3.5.0,>=3.4.0->en-core-web-sm==3.4.0) (0.6.2)\n",
            "Requirement already satisfied: thinc<8.2.0,>=8.1.0 in /usr/local/lib/python3.7/dist-packages (from spacy<3.5.0,>=3.4.0->en-core-web-sm==3.4.0) (8.1.3)\n",
            "Requirement already satisfied: murmurhash<1.1.0,>=0.28.0 in /usr/local/lib/python3.7/dist-packages (from spacy<3.5.0,>=3.4.0->en-core-web-sm==3.4.0) (1.0.8)\n",
            "Requirement already satisfied: typer<0.5.0,>=0.3.0 in /usr/local/lib/python3.7/dist-packages (from spacy<3.5.0,>=3.4.0->en-core-web-sm==3.4.0) (0.4.2)\n",
            "Requirement already satisfied: pydantic!=1.8,!=1.8.1,<1.10.0,>=1.7.4 in /usr/local/lib/python3.7/dist-packages (from spacy<3.5.0,>=3.4.0->en-core-web-sm==3.4.0) (1.9.2)\n",
            "Requirement already satisfied: srsly<3.0.0,>=2.4.3 in /usr/local/lib/python3.7/dist-packages (from spacy<3.5.0,>=3.4.0->en-core-web-sm==3.4.0) (2.4.4)\n",
            "Requirement already satisfied: spacy-legacy<3.1.0,>=3.0.9 in /usr/local/lib/python3.7/dist-packages (from spacy<3.5.0,>=3.4.0->en-core-web-sm==3.4.0) (3.0.10)\n",
            "Requirement already satisfied: requests<3.0.0,>=2.13.0 in /usr/local/lib/python3.7/dist-packages (from spacy<3.5.0,>=3.4.0->en-core-web-sm==3.4.0) (2.23.0)\n",
            "Requirement already satisfied: jinja2 in /usr/local/lib/python3.7/dist-packages (from spacy<3.5.0,>=3.4.0->en-core-web-sm==3.4.0) (2.11.3)\n",
            "Requirement already satisfied: spacy-loggers<2.0.0,>=1.0.0 in /usr/local/lib/python3.7/dist-packages (from spacy<3.5.0,>=3.4.0->en-core-web-sm==3.4.0) (1.0.3)\n",
            "Requirement already satisfied: packaging>=20.0 in /usr/local/lib/python3.7/dist-packages (from spacy<3.5.0,>=3.4.0->en-core-web-sm==3.4.0) (21.3)\n",
            "Requirement already satisfied: typing-extensions<4.2.0,>=3.7.4 in /usr/local/lib/python3.7/dist-packages (from spacy<3.5.0,>=3.4.0->en-core-web-sm==3.4.0) (4.1.1)\n",
            "Requirement already satisfied: cymem<2.1.0,>=2.0.2 in /usr/local/lib/python3.7/dist-packages (from spacy<3.5.0,>=3.4.0->en-core-web-sm==3.4.0) (2.0.6)\n",
            "Requirement already satisfied: catalogue<2.1.0,>=2.0.6 in /usr/local/lib/python3.7/dist-packages (from spacy<3.5.0,>=3.4.0->en-core-web-sm==3.4.0) (2.0.8)\n",
            "Requirement already satisfied: preshed<3.1.0,>=3.0.2 in /usr/local/lib/python3.7/dist-packages (from spacy<3.5.0,>=3.4.0->en-core-web-sm==3.4.0) (3.0.7)\n",
            "Requirement already satisfied: zipp>=0.5 in /usr/local/lib/python3.7/dist-packages (from catalogue<2.1.0,>=2.0.6->spacy<3.5.0,>=3.4.0->en-core-web-sm==3.4.0) (3.9.0)\n",
            "Requirement already satisfied: pyparsing!=3.0.5,>=2.0.2 in /usr/local/lib/python3.7/dist-packages (from packaging>=20.0->spacy<3.5.0,>=3.4.0->en-core-web-sm==3.4.0) (3.0.9)\n",
            "Requirement already satisfied: smart-open<6.0.0,>=5.2.1 in /usr/local/lib/python3.7/dist-packages (from pathy>=0.3.5->spacy<3.5.0,>=3.4.0->en-core-web-sm==3.4.0) (5.2.1)\n",
            "Requirement already satisfied: idna<3,>=2.5 in /usr/local/lib/python3.7/dist-packages (from requests<3.0.0,>=2.13.0->spacy<3.5.0,>=3.4.0->en-core-web-sm==3.4.0) (2.10)\n",
            "Requirement already satisfied: urllib3!=1.25.0,!=1.25.1,<1.26,>=1.21.1 in /usr/local/lib/python3.7/dist-packages (from requests<3.0.0,>=2.13.0->spacy<3.5.0,>=3.4.0->en-core-web-sm==3.4.0) (1.24.3)\n",
            "Requirement already satisfied: chardet<4,>=3.0.2 in /usr/local/lib/python3.7/dist-packages (from requests<3.0.0,>=2.13.0->spacy<3.5.0,>=3.4.0->en-core-web-sm==3.4.0) (3.0.4)\n",
            "Requirement already satisfied: certifi>=2017.4.17 in /usr/local/lib/python3.7/dist-packages (from requests<3.0.0,>=2.13.0->spacy<3.5.0,>=3.4.0->en-core-web-sm==3.4.0) (2022.9.24)\n",
            "Requirement already satisfied: confection<1.0.0,>=0.0.1 in /usr/local/lib/python3.7/dist-packages (from thinc<8.2.0,>=8.1.0->spacy<3.5.0,>=3.4.0->en-core-web-sm==3.4.0) (0.0.3)\n",
            "Requirement already satisfied: blis<0.8.0,>=0.7.8 in /usr/local/lib/python3.7/dist-packages (from thinc<8.2.0,>=8.1.0->spacy<3.5.0,>=3.4.0->en-core-web-sm==3.4.0) (0.7.8)\n",
            "Requirement already satisfied: click<9.0.0,>=7.1.1 in /usr/local/lib/python3.7/dist-packages (from typer<0.5.0,>=0.3.0->spacy<3.5.0,>=3.4.0->en-core-web-sm==3.4.0) (7.1.2)\n",
            "Requirement already satisfied: MarkupSafe>=0.23 in /usr/local/lib/python3.7/dist-packages (from jinja2->spacy<3.5.0,>=3.4.0->en-core-web-sm==3.4.0) (2.0.1)\n",
            "\u001b[38;5;2m✔ Download and installation successful\u001b[0m\n",
            "You can now load the package via spacy.load('en_core_web_sm')\n"
          ]
        }
      ]
    },
    {
      "cell_type": "markdown",
      "source": [
        "![The_Simpsons_yellow_logo.svg.png](data:image/png;base64,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)"
      ],
      "metadata": {
        "id": "NRsyjMDsFz1M"
      }
    },
    {
      "cell_type": "markdown",
      "source": [
        "# The Data"
      ],
      "metadata": {
        "id": "uz3BHES9U1cR"
      }
    },
    {
      "cell_type": "markdown",
      "source": [
        "The Simpsons is an American animated sitcom created by Matt Groening for the Fox Broadcasting Company. The series is a satirical depiction of American life, epitomized by the Simpson family, which consists of Homer, Marge, Bart, Lisa, and Maggie. The show is set in the fictional town of Springfield and parodies American culture and society, television, and the human condition. \n",
        "\n",
        "This dataset contains the character who speaks and the raw text from the line of dialogue. It can be found here: \n",
        "\n",
        "https://www.kaggle.com/datasets/pierremegret/dialogue-lines-of-the-simpsons"
      ],
      "metadata": {
        "id": "stFt2vGtU3hj"
      }
    },
    {
      "cell_type": "markdown",
      "source": [
        "# Preprocessing"
      ],
      "metadata": {
        "id": "8YxSpaOk_iqp"
      }
    },
    {
      "cell_type": "code",
      "execution_count": 3,
      "metadata": {
        "id": "vz-jH8T_Uk2c",
        "colab": {
          "base_uri": "https://localhost:8080/",
          "height": 75
        },
        "outputId": "cdece116-3840-43c8-c93b-3384a9ed9f5f"
      },
      "outputs": [
        {
          "output_type": "display_data",
          "data": {
            "text/plain": [
              "<IPython.core.display.HTML object>"
            ],
            "text/html": [
              "\n",
              "     <input type=\"file\" id=\"files-0403fdd4-42fb-45fa-a3c5-a73e29bb25f9\" name=\"files[]\" multiple disabled\n",
              "        style=\"border:none\" />\n",
              "     <output id=\"result-0403fdd4-42fb-45fa-a3c5-a73e29bb25f9\">\n",
              "      Upload widget is only available when the cell has been executed in the\n",
              "      current browser session. Please rerun this cell to enable.\n",
              "      </output>\n",
              "      <script>// Copyright 2017 Google LLC\n",
              "//\n",
              "// Licensed under the Apache License, Version 2.0 (the \"License\");\n",
              "// you may not use this file except in compliance with the License.\n",
              "// You may obtain a copy of the License at\n",
              "//\n",
              "//      http://www.apache.org/licenses/LICENSE-2.0\n",
              "//\n",
              "// Unless required by applicable law or agreed to in writing, software\n",
              "// distributed under the License is distributed on an \"AS IS\" BASIS,\n",
              "// WITHOUT WARRANTIES OR CONDITIONS OF ANY KIND, either express or implied.\n",
              "// See the License for the specific language governing permissions and\n",
              "// limitations under the License.\n",
              "\n",
              "/**\n",
              " * @fileoverview Helpers for google.colab Python module.\n",
              " */\n",
              "(function(scope) {\n",
              "function span(text, styleAttributes = {}) {\n",
              "  const element = document.createElement('span');\n",
              "  element.textContent = text;\n",
              "  for (const key of Object.keys(styleAttributes)) {\n",
              "    element.style[key] = styleAttributes[key];\n",
              "  }\n",
              "  return element;\n",
              "}\n",
              "\n",
              "// Max number of bytes which will be uploaded at a time.\n",
              "const MAX_PAYLOAD_SIZE = 100 * 1024;\n",
              "\n",
              "function _uploadFiles(inputId, outputId) {\n",
              "  const steps = uploadFilesStep(inputId, outputId);\n",
              "  const outputElement = document.getElementById(outputId);\n",
              "  // Cache steps on the outputElement to make it available for the next call\n",
              "  // to uploadFilesContinue from Python.\n",
              "  outputElement.steps = steps;\n",
              "\n",
              "  return _uploadFilesContinue(outputId);\n",
              "}\n",
              "\n",
              "// This is roughly an async generator (not supported in the browser yet),\n",
              "// where there are multiple asynchronous steps and the Python side is going\n",
              "// to poll for completion of each step.\n",
              "// This uses a Promise to block the python side on completion of each step,\n",
              "// then passes the result of the previous step as the input to the next step.\n",
              "function _uploadFilesContinue(outputId) {\n",
              "  const outputElement = document.getElementById(outputId);\n",
              "  const steps = outputElement.steps;\n",
              "\n",
              "  const next = steps.next(outputElement.lastPromiseValue);\n",
              "  return Promise.resolve(next.value.promise).then((value) => {\n",
              "    // Cache the last promise value to make it available to the next\n",
              "    // step of the generator.\n",
              "    outputElement.lastPromiseValue = value;\n",
              "    return next.value.response;\n",
              "  });\n",
              "}\n",
              "\n",
              "/**\n",
              " * Generator function which is called between each async step of the upload\n",
              " * process.\n",
              " * @param {string} inputId Element ID of the input file picker element.\n",
              " * @param {string} outputId Element ID of the output display.\n",
              " * @return {!Iterable<!Object>} Iterable of next steps.\n",
              " */\n",
              "function* uploadFilesStep(inputId, outputId) {\n",
              "  const inputElement = document.getElementById(inputId);\n",
              "  inputElement.disabled = false;\n",
              "\n",
              "  const outputElement = document.getElementById(outputId);\n",
              "  outputElement.innerHTML = '';\n",
              "\n",
              "  const pickedPromise = new Promise((resolve) => {\n",
              "    inputElement.addEventListener('change', (e) => {\n",
              "      resolve(e.target.files);\n",
              "    });\n",
              "  });\n",
              "\n",
              "  const cancel = document.createElement('button');\n",
              "  inputElement.parentElement.appendChild(cancel);\n",
              "  cancel.textContent = 'Cancel upload';\n",
              "  const cancelPromise = new Promise((resolve) => {\n",
              "    cancel.onclick = () => {\n",
              "      resolve(null);\n",
              "    };\n",
              "  });\n",
              "\n",
              "  // Wait for the user to pick the files.\n",
              "  const files = yield {\n",
              "    promise: Promise.race([pickedPromise, cancelPromise]),\n",
              "    response: {\n",
              "      action: 'starting',\n",
              "    }\n",
              "  };\n",
              "\n",
              "  cancel.remove();\n",
              "\n",
              "  // Disable the input element since further picks are not allowed.\n",
              "  inputElement.disabled = true;\n",
              "\n",
              "  if (!files) {\n",
              "    return {\n",
              "      response: {\n",
              "        action: 'complete',\n",
              "      }\n",
              "    };\n",
              "  }\n",
              "\n",
              "  for (const file of files) {\n",
              "    const li = document.createElement('li');\n",
              "    li.append(span(file.name, {fontWeight: 'bold'}));\n",
              "    li.append(span(\n",
              "        `(${file.type || 'n/a'}) - ${file.size} bytes, ` +\n",
              "        `last modified: ${\n",
              "            file.lastModifiedDate ? file.lastModifiedDate.toLocaleDateString() :\n",
              "                                    'n/a'} - `));\n",
              "    const percent = span('0% done');\n",
              "    li.appendChild(percent);\n",
              "\n",
              "    outputElement.appendChild(li);\n",
              "\n",
              "    const fileDataPromise = new Promise((resolve) => {\n",
              "      const reader = new FileReader();\n",
              "      reader.onload = (e) => {\n",
              "        resolve(e.target.result);\n",
              "      };\n",
              "      reader.readAsArrayBuffer(file);\n",
              "    });\n",
              "    // Wait for the data to be ready.\n",
              "    let fileData = yield {\n",
              "      promise: fileDataPromise,\n",
              "      response: {\n",
              "        action: 'continue',\n",
              "      }\n",
              "    };\n",
              "\n",
              "    // Use a chunked sending to avoid message size limits. See b/62115660.\n",
              "    let position = 0;\n",
              "    do {\n",
              "      const length = Math.min(fileData.byteLength - position, MAX_PAYLOAD_SIZE);\n",
              "      const chunk = new Uint8Array(fileData, position, length);\n",
              "      position += length;\n",
              "\n",
              "      const base64 = btoa(String.fromCharCode.apply(null, chunk));\n",
              "      yield {\n",
              "        response: {\n",
              "          action: 'append',\n",
              "          file: file.name,\n",
              "          data: base64,\n",
              "        },\n",
              "      };\n",
              "\n",
              "      let percentDone = fileData.byteLength === 0 ?\n",
              "          100 :\n",
              "          Math.round((position / fileData.byteLength) * 100);\n",
              "      percent.textContent = `${percentDone}% done`;\n",
              "\n",
              "    } while (position < fileData.byteLength);\n",
              "  }\n",
              "\n",
              "  // All done.\n",
              "  yield {\n",
              "    response: {\n",
              "      action: 'complete',\n",
              "    }\n",
              "  };\n",
              "}\n",
              "\n",
              "scope.google = scope.google || {};\n",
              "scope.google.colab = scope.google.colab || {};\n",
              "scope.google.colab._files = {\n",
              "  _uploadFiles,\n",
              "  _uploadFilesContinue,\n",
              "};\n",
              "})(self);\n",
              "</script> "
            ]
          },
          "metadata": {}
        },
        {
          "output_type": "stream",
          "name": "stdout",
          "text": [
            "Saving simpsons_dataset.csv to simpsons_dataset.csv\n"
          ]
        }
      ],
      "source": [
        "from google.colab import files\n",
        "\n",
        "uploaded = files.upload()"
      ]
    },
    {
      "cell_type": "code",
      "source": [
        "df = pd.read_csv('simpsons_dataset.csv')\n",
        "df.shape"
      ],
      "metadata": {
        "colab": {
          "base_uri": "https://localhost:8080/"
        },
        "id": "TEYTyr-V9O3p",
        "outputId": "f0b014b7-32c2-4579-fbdd-0b470f8d288a"
      },
      "execution_count": 4,
      "outputs": [
        {
          "output_type": "execute_result",
          "data": {
            "text/plain": [
              "(158314, 2)"
            ]
          },
          "metadata": {},
          "execution_count": 4
        }
      ]
    },
    {
      "cell_type": "code",
      "source": [
        "df.head()"
      ],
      "metadata": {
        "colab": {
          "base_uri": "https://localhost:8080/",
          "height": 206
        },
        "id": "WIlvxL7i9l78",
        "outputId": "2e8e2e48-aea4-4545-b334-d1ad1f6677d1"
      },
      "execution_count": 5,
      "outputs": [
        {
          "output_type": "execute_result",
          "data": {
            "text/plain": [
              "        raw_character_text                                       spoken_words\n",
              "0              Miss Hoover  No, actually, it was a little of both. Sometim...\n",
              "1             Lisa Simpson                             Where's Mr. Bergstrom?\n",
              "2              Miss Hoover  I don't know. Although I'd sure like to talk t...\n",
              "3             Lisa Simpson                         That life is worth living.\n",
              "4  Edna Krabappel-Flanders  The polls will be open from now until the end ..."
            ],
            "text/html": [
              "\n",
              "  <div id=\"df-12c68a20-bc8d-4e70-a4f8-758605fd9a84\">\n",
              "    <div class=\"colab-df-container\">\n",
              "      <div>\n",
              "<style scoped>\n",
              "    .dataframe tbody tr th:only-of-type {\n",
              "        vertical-align: middle;\n",
              "    }\n",
              "\n",
              "    .dataframe tbody tr th {\n",
              "        vertical-align: top;\n",
              "    }\n",
              "\n",
              "    .dataframe thead th {\n",
              "        text-align: right;\n",
              "    }\n",
              "</style>\n",
              "<table border=\"1\" class=\"dataframe\">\n",
              "  <thead>\n",
              "    <tr style=\"text-align: right;\">\n",
              "      <th></th>\n",
              "      <th>raw_character_text</th>\n",
              "      <th>spoken_words</th>\n",
              "    </tr>\n",
              "  </thead>\n",
              "  <tbody>\n",
              "    <tr>\n",
              "      <th>0</th>\n",
              "      <td>Miss Hoover</td>\n",
              "      <td>No, actually, it was a little of both. Sometim...</td>\n",
              "    </tr>\n",
              "    <tr>\n",
              "      <th>1</th>\n",
              "      <td>Lisa Simpson</td>\n",
              "      <td>Where's Mr. Bergstrom?</td>\n",
              "    </tr>\n",
              "    <tr>\n",
              "      <th>2</th>\n",
              "      <td>Miss Hoover</td>\n",
              "      <td>I don't know. Although I'd sure like to talk t...</td>\n",
              "    </tr>\n",
              "    <tr>\n",
              "      <th>3</th>\n",
              "      <td>Lisa Simpson</td>\n",
              "      <td>That life is worth living.</td>\n",
              "    </tr>\n",
              "    <tr>\n",
              "      <th>4</th>\n",
              "      <td>Edna Krabappel-Flanders</td>\n",
              "      <td>The polls will be open from now until the end ...</td>\n",
              "    </tr>\n",
              "  </tbody>\n",
              "</table>\n",
              "</div>\n",
              "      <button class=\"colab-df-convert\" onclick=\"convertToInteractive('df-12c68a20-bc8d-4e70-a4f8-758605fd9a84')\"\n",
              "              title=\"Convert this dataframe to an interactive table.\"\n",
              "              style=\"display:none;\">\n",
              "        \n",
              "  <svg xmlns=\"http://www.w3.org/2000/svg\" height=\"24px\"viewBox=\"0 0 24 24\"\n",
              "       width=\"24px\">\n",
              "    <path d=\"M0 0h24v24H0V0z\" fill=\"none\"/>\n",
              "    <path d=\"M18.56 5.44l.94 2.06.94-2.06 2.06-.94-2.06-.94-.94-2.06-.94 2.06-2.06.94zm-11 1L8.5 8.5l.94-2.06 2.06-.94-2.06-.94L8.5 2.5l-.94 2.06-2.06.94zm10 10l.94 2.06.94-2.06 2.06-.94-2.06-.94-.94-2.06-.94 2.06-2.06.94z\"/><path d=\"M17.41 7.96l-1.37-1.37c-.4-.4-.92-.59-1.43-.59-.52 0-1.04.2-1.43.59L10.3 9.45l-7.72 7.72c-.78.78-.78 2.05 0 2.83L4 21.41c.39.39.9.59 1.41.59.51 0 1.02-.2 1.41-.59l7.78-7.78 2.81-2.81c.8-.78.8-2.07 0-2.86zM5.41 20L4 18.59l7.72-7.72 1.47 1.35L5.41 20z\"/>\n",
              "  </svg>\n",
              "      </button>\n",
              "      \n",
              "  <style>\n",
              "    .colab-df-container {\n",
              "      display:flex;\n",
              "      flex-wrap:wrap;\n",
              "      gap: 12px;\n",
              "    }\n",
              "\n",
              "    .colab-df-convert {\n",
              "      background-color: #E8F0FE;\n",
              "      border: none;\n",
              "      border-radius: 50%;\n",
              "      cursor: pointer;\n",
              "      display: none;\n",
              "      fill: #1967D2;\n",
              "      height: 32px;\n",
              "      padding: 0 0 0 0;\n",
              "      width: 32px;\n",
              "    }\n",
              "\n",
              "    .colab-df-convert:hover {\n",
              "      background-color: #E2EBFA;\n",
              "      box-shadow: 0px 1px 2px rgba(60, 64, 67, 0.3), 0px 1px 3px 1px rgba(60, 64, 67, 0.15);\n",
              "      fill: #174EA6;\n",
              "    }\n",
              "\n",
              "    [theme=dark] .colab-df-convert {\n",
              "      background-color: #3B4455;\n",
              "      fill: #D2E3FC;\n",
              "    }\n",
              "\n",
              "    [theme=dark] .colab-df-convert:hover {\n",
              "      background-color: #434B5C;\n",
              "      box-shadow: 0px 1px 3px 1px rgba(0, 0, 0, 0.15);\n",
              "      filter: drop-shadow(0px 1px 2px rgba(0, 0, 0, 0.3));\n",
              "      fill: #FFFFFF;\n",
              "    }\n",
              "  </style>\n",
              "\n",
              "      <script>\n",
              "        const buttonEl =\n",
              "          document.querySelector('#df-12c68a20-bc8d-4e70-a4f8-758605fd9a84 button.colab-df-convert');\n",
              "        buttonEl.style.display =\n",
              "          google.colab.kernel.accessAllowed ? 'block' : 'none';\n",
              "\n",
              "        async function convertToInteractive(key) {\n",
              "          const element = document.querySelector('#df-12c68a20-bc8d-4e70-a4f8-758605fd9a84');\n",
              "          const dataTable =\n",
              "            await google.colab.kernel.invokeFunction('convertToInteractive',\n",
              "                                                     [key], {});\n",
              "          if (!dataTable) return;\n",
              "\n",
              "          const docLinkHtml = 'Like what you see? Visit the ' +\n",
              "            '<a target=\"_blank\" href=https://colab.research.google.com/notebooks/data_table.ipynb>data table notebook</a>'\n",
              "            + ' to learn more about interactive tables.';\n",
              "          element.innerHTML = '';\n",
              "          dataTable['output_type'] = 'display_data';\n",
              "          await google.colab.output.renderOutput(dataTable, element);\n",
              "          const docLink = document.createElement('div');\n",
              "          docLink.innerHTML = docLinkHtml;\n",
              "          element.appendChild(docLink);\n",
              "        }\n",
              "      </script>\n",
              "    </div>\n",
              "  </div>\n",
              "  "
            ]
          },
          "metadata": {},
          "execution_count": 5
        }
      ]
    },
    {
      "cell_type": "code",
      "source": [
        "df.isnull().sum()"
      ],
      "metadata": {
        "colab": {
          "base_uri": "https://localhost:8080/"
        },
        "id": "MSAgyNis9mT3",
        "outputId": "43cb5ee9-00a8-4431-9a8b-d984b309b12d"
      },
      "execution_count": 6,
      "outputs": [
        {
          "output_type": "execute_result",
          "data": {
            "text/plain": [
              "raw_character_text    17814\n",
              "spoken_words          26459\n",
              "dtype: int64"
            ]
          },
          "metadata": {},
          "execution_count": 6
        }
      ]
    },
    {
      "cell_type": "code",
      "source": [
        "df = df.dropna().reset_index(drop=True)\n",
        "df.isnull().sum()"
      ],
      "metadata": {
        "colab": {
          "base_uri": "https://localhost:8080/"
        },
        "id": "HMUYexqF9n5o",
        "outputId": "912ef91f-16c3-4c31-d82a-d78c5815677f"
      },
      "execution_count": 7,
      "outputs": [
        {
          "output_type": "execute_result",
          "data": {
            "text/plain": [
              "raw_character_text    0\n",
              "spoken_words          0\n",
              "dtype: int64"
            ]
          },
          "metadata": {},
          "execution_count": 7
        }
      ]
    },
    {
      "cell_type": "markdown",
      "source": [
        "## Cleaning:"
      ],
      "metadata": {
        "id": "2qJFzT0c_uoP"
      }
    },
    {
      "cell_type": "markdown",
      "source": [
        "It consists of lemmatizing and removing the stopwords and non-alphabetic characters for each line of dialogue."
      ],
      "metadata": {
        "id": "oYvOLkhn_wbD"
      }
    },
    {
      "cell_type": "code",
      "source": [
        "nlp = spacy.load(\"en_core_web_sm\", disable=['ner', 'parser']) # disabling Named Entity Recognition for speed\n",
        "\n",
        "def cleaning(doc):\n",
        "    # Lemmatizes and removes stopwords\n",
        "    # doc needs to be a spacy Doc object\n",
        "    txt = [token.lemma_ for token in doc if not token.is_stop]\n",
        "    # Word2Vec uses context words to learn the vector representation of a target word,\n",
        "    # if a sentence is only one or two words long,\n",
        "    # the benefit for the training is very small\n",
        "    if len(txt) > 2:\n",
        "        return ' '.join(txt)"
      ],
      "metadata": {
        "id": "H0LvDUP29rqC"
      },
      "execution_count": 8,
      "outputs": []
    },
    {
      "cell_type": "code",
      "source": [
        "brief_cleaning = (re.sub(\"[^A-Za-z']+\", ' ', str(row)).lower() for row in df['spoken_words'])"
      ],
      "metadata": {
        "id": "r_kMVHOl9xPS"
      },
      "execution_count": 9,
      "outputs": []
    },
    {
      "cell_type": "code",
      "source": [
        "t = time()\n",
        "\n",
        "txt = [cleaning(doc) for doc in nlp.pipe(brief_cleaning, batch_size=5000)]\n",
        "\n",
        "print('Time to clean up everything: {} mins'.format(round((time() - t) / 60, 2)))"
      ],
      "metadata": {
        "colab": {
          "base_uri": "https://localhost:8080/"
        },
        "id": "KusNzItE_-2W",
        "outputId": "c5cfbcfe-2213-4d4a-9a63-95f2a7ff83b7"
      },
      "execution_count": 10,
      "outputs": [
        {
          "output_type": "stream",
          "name": "stdout",
          "text": [
            "Time to clean up everything: 1.9 mins\n"
          ]
        }
      ]
    },
    {
      "cell_type": "markdown",
      "source": [
        "Add the results to a DataFrame to remove missing and duplicate values:"
      ],
      "metadata": {
        "id": "COpPenTbW2Wz"
      }
    },
    {
      "cell_type": "code",
      "source": [
        "df_clean = pd.DataFrame({'clean': txt})\n",
        "df_clean = df_clean.dropna().drop_duplicates()\n",
        "df_clean.shape"
      ],
      "metadata": {
        "colab": {
          "base_uri": "https://localhost:8080/"
        },
        "id": "Z6enNN8M9xlD",
        "outputId": "96b40bae-661f-4c40-9077-93dd90d6662e"
      },
      "execution_count": 11,
      "outputs": [
        {
          "output_type": "execute_result",
          "data": {
            "text/plain": [
              "(85954, 1)"
            ]
          },
          "metadata": {},
          "execution_count": 11
        }
      ]
    },
    {
      "cell_type": "markdown",
      "source": [
        "## Bigrams:"
      ],
      "metadata": {
        "id": "7RtikAyPAesR"
      }
    },
    {
      "cell_type": "markdown",
      "source": [
        "Gensim Phrases package to automatically detect common phrases (bigrams) from a list of sentences. https://radimrehurek.com/gensim/models/phrases.html"
      ],
      "metadata": {
        "id": "7mS6JLQnXMV8"
      }
    },
    {
      "cell_type": "markdown",
      "source": [
        "The main reason we do this is to catch words like \"mr_burns\" or \"bart_simpson\"."
      ],
      "metadata": {
        "id": "bf3iNdmPXPhR"
      }
    },
    {
      "cell_type": "code",
      "source": [
        "sent = [row.split() for row in df_clean['clean']]"
      ],
      "metadata": {
        "id": "P0eBVYajMpiO"
      },
      "execution_count": 12,
      "outputs": []
    },
    {
      "cell_type": "code",
      "source": [
        "phrases = Phrases(sent, min_count=30, progress_per=10000)"
      ],
      "metadata": {
        "id": "MyivzfRFMp91"
      },
      "execution_count": 13,
      "outputs": []
    },
    {
      "cell_type": "code",
      "source": [
        "bigram = Phraser(phrases)"
      ],
      "metadata": {
        "id": "3GKjJtmUMrfI"
      },
      "execution_count": 14,
      "outputs": []
    },
    {
      "cell_type": "code",
      "source": [
        "sentences = bigram[sent]"
      ],
      "metadata": {
        "id": "tSM9uT4PMtfS"
      },
      "execution_count": 15,
      "outputs": []
    },
    {
      "cell_type": "markdown",
      "source": [
        "## Word "
      ],
      "metadata": {
        "id": "0yWb9h0bMw7s"
      }
    },
    {
      "cell_type": "code",
      "source": [
        "word_freq = defaultdict(int)\n",
        "for sent in sentences:\n",
        "    for i in sent:\n",
        "        word_freq[i] += 1\n",
        "len(word_freq)"
      ],
      "metadata": {
        "colab": {
          "base_uri": "https://localhost:8080/"
        },
        "id": "AAQwcJ3_Mu6N",
        "outputId": "334f4d2d-9135-447b-b142-e69355355bdb"
      },
      "execution_count": 16,
      "outputs": [
        {
          "output_type": "execute_result",
          "data": {
            "text/plain": [
              "29674"
            ]
          },
          "metadata": {},
          "execution_count": 16
        }
      ]
    },
    {
      "cell_type": "code",
      "source": [
        "sorted(word_freq, key=word_freq.get, reverse=True)[:10]"
      ],
      "metadata": {
        "colab": {
          "base_uri": "https://localhost:8080/"
        },
        "id": "6wGSWzZGMypq",
        "outputId": "bfa10633-f550-456d-a3e0-b4ca529ebfd0"
      },
      "execution_count": 17,
      "outputs": [
        {
          "output_type": "execute_result",
          "data": {
            "text/plain": [
              "['oh', 'like', 'know', 'get', 'hey', 'think', 'come', 'right', 'look', 'want']"
            ]
          },
          "metadata": {},
          "execution_count": 17
        }
      ]
    },
    {
      "cell_type": "markdown",
      "source": [
        "# Training the model"
      ],
      "metadata": {
        "id": "Oj-B6qgnXz3T"
      }
    },
    {
      "cell_type": "code",
      "source": [
        "cores = multiprocessing.cpu_count() # Count the number of cores in a computer"
      ],
      "metadata": {
        "id": "zCF02n55b3Ew"
      },
      "execution_count": 18,
      "outputs": []
    },
    {
      "cell_type": "code",
      "source": [
        "w2v_model = Word2Vec(min_count=20,\n",
        "                     window=2,\n",
        "                     size=300,\n",
        "                     sample=6e-5, \n",
        "                     alpha=0.03, \n",
        "                     min_alpha=0.0007, \n",
        "                     negative=20,\n",
        "                     workers=cores-1)"
      ],
      "metadata": {
        "id": "cJ0E1m-fb3pa"
      },
      "execution_count": 19,
      "outputs": []
    },
    {
      "cell_type": "code",
      "source": [
        "t = time()\n",
        "\n",
        "w2v_model.build_vocab(sentences, progress_per=10000)\n",
        "\n",
        "print('Time to build vocab: {} mins'.format(round((time() - t) / 60, 2)))"
      ],
      "metadata": {
        "colab": {
          "base_uri": "https://localhost:8080/"
        },
        "id": "pSdBY9dCb_0z",
        "outputId": "b51e06f6-e48d-4c36-84a2-9e7060e93161"
      },
      "execution_count": 20,
      "outputs": [
        {
          "output_type": "stream",
          "name": "stdout",
          "text": [
            "Time to build vocab: 0.05 mins\n"
          ]
        }
      ]
    },
    {
      "cell_type": "code",
      "source": [
        "t = time()\n",
        "\n",
        "w2v_model.train(sentences, total_examples=w2v_model.corpus_count, epochs=30, report_delay=1)\n",
        "\n",
        "print('Time to train the model: {} mins'.format(round((time() - t) / 60, 2)))"
      ],
      "metadata": {
        "colab": {
          "base_uri": "https://localhost:8080/"
        },
        "id": "6RNJf0YvcF1m",
        "outputId": "2cfab8f6-3f61-46c6-8ee1-d0cb072732be"
      },
      "execution_count": 21,
      "outputs": [
        {
          "output_type": "stream",
          "name": "stdout",
          "text": [
            "Time to train the model: 1.61 mins\n"
          ]
        }
      ]
    },
    {
      "cell_type": "markdown",
      "source": [
        "## Exploring the model\n",
        "### Most similar to:\n",
        "\n",
        "Here, we will ask our model to find the word most similar to some of the most iconic characters of the Simpsons!"
      ],
      "metadata": {
        "id": "FZGG8vD-yzXf"
      }
    },
    {
      "cell_type": "code",
      "source": [
        "w2v_model.wv.most_similar(positive=[\"homer\"])"
      ],
      "metadata": {
        "colab": {
          "base_uri": "https://localhost:8080/"
        },
        "id": "rfketEqo9P8A",
        "outputId": "23567574-4f7a-476a-bd6c-6624efd6570e"
      },
      "execution_count": 22,
      "outputs": [
        {
          "output_type": "execute_result",
          "data": {
            "text/plain": [
              "[('sweetheart', 0.8023964166641235),\n",
              " ('marge', 0.7958885431289673),\n",
              " ('gee', 0.7863509654998779),\n",
              " ('depressed', 0.7793607711791992),\n",
              " ('snuggle', 0.7638195753097534),\n",
              " ('bongo', 0.744521975517273),\n",
              " ('hammock', 0.7425088882446289),\n",
              " ('creepy', 0.7371652126312256),\n",
              " ('drunk', 0.7368977069854736),\n",
              " ('crummy', 0.7351188659667969)]"
            ]
          },
          "metadata": {},
          "execution_count": 22
        }
      ]
    },
    {
      "cell_type": "code",
      "source": [
        "w2v_model.wv.most_similar(positive=[\"homer_simpson\"])"
      ],
      "metadata": {
        "colab": {
          "base_uri": "https://localhost:8080/"
        },
        "id": "akfSF0bo9WJB",
        "outputId": "d48c52b0-969b-4aa0-a359-a6e5704eefb0"
      },
      "execution_count": 23,
      "outputs": [
        {
          "output_type": "execute_result",
          "data": {
            "text/plain": [
              "[('council', 0.7986871004104614),\n",
              " ('recent', 0.7938088774681091),\n",
              " ('congratulation', 0.7892942428588867),\n",
              " ('select', 0.788150429725647),\n",
              " ('robert', 0.778351902961731),\n",
              " ('pleased', 0.7737969160079956),\n",
              " ('sir', 0.7688939571380615),\n",
              " ('burns', 0.7608059048652649),\n",
              " ('governor', 0.758185625076294),\n",
              " ('united_states', 0.7419785261154175)]"
            ]
          },
          "metadata": {},
          "execution_count": 23
        }
      ]
    },
    {
      "cell_type": "code",
      "source": [
        "w2v_model.wv.most_similar(positive=[\"marge\"])"
      ],
      "metadata": {
        "colab": {
          "base_uri": "https://localhost:8080/"
        },
        "id": "yLeND02f9bAH",
        "outputId": "4e9a0ae6-cc4c-444d-b912-b338661db51d"
      },
      "execution_count": 42,
      "outputs": [
        {
          "output_type": "execute_result",
          "data": {
            "text/plain": [
              "[('homer', 0.7958886623382568),\n",
              " ('snuggle', 0.7847324013710022),\n",
              " ('married', 0.7769250869750977),\n",
              " ('darling', 0.7543584108352661),\n",
              " ('brunch', 0.7526756525039673),\n",
              " ('sure', 0.7510753870010376),\n",
              " ('husband', 0.7505837678909302),\n",
              " ('sorry', 0.7505831718444824),\n",
              " ('homie', 0.7462124228477478),\n",
              " ('ohh', 0.7428195476531982)]"
            ]
          },
          "metadata": {},
          "execution_count": 42
        }
      ]
    },
    {
      "cell_type": "code",
      "source": [
        "w2v_model.wv.most_similar(positive=[\"bart\"])"
      ],
      "metadata": {
        "colab": {
          "base_uri": "https://localhost:8080/"
        },
        "id": "NPN-zgkB9d6C",
        "outputId": "807b8bea-191b-4102-a273-09e277d3b4af"
      },
      "execution_count": 25,
      "outputs": [
        {
          "output_type": "execute_result",
          "data": {
            "text/plain": [
              "[('lisa', 0.8345832824707031),\n",
              " ('mom', 0.7741888761520386),\n",
              " ('upset', 0.7736644744873047),\n",
              " ('convince', 0.769268274307251),\n",
              " ('badly', 0.7612825036048889),\n",
              " ('dr_hibbert', 0.7578321695327759),\n",
              " ('janey', 0.755243718624115),\n",
              " ('jealous', 0.7511260509490967),\n",
              " ('milhouse', 0.7447141408920288),\n",
              " ('creepy', 0.7439168691635132)]"
            ]
          },
          "metadata": {},
          "execution_count": 25
        }
      ]
    },
    {
      "cell_type": "markdown",
      "source": [
        "\n",
        "## Similarities:\n",
        "\n",
        "Here, we will see how similar are two words to each other :\n"
      ],
      "metadata": {
        "id": "4vaLF83X9jIh"
      }
    },
    {
      "cell_type": "code",
      "source": [
        "w2v_model.wv.similarity('maggie', 'baby')"
      ],
      "metadata": {
        "colab": {
          "base_uri": "https://localhost:8080/"
        },
        "id": "Ct9rm_1A9iIq",
        "outputId": "9121578d-1af0-47f6-afce-84545c4c678b"
      },
      "execution_count": 31,
      "outputs": [
        {
          "output_type": "execute_result",
          "data": {
            "text/plain": [
              "0.6904268"
            ]
          },
          "metadata": {},
          "execution_count": 31
        }
      ]
    },
    {
      "cell_type": "code",
      "source": [
        "w2v_model.wv.similarity('bart', 'milhouse')"
      ],
      "metadata": {
        "colab": {
          "base_uri": "https://localhost:8080/"
        },
        "id": "-1_MLvf--t0b",
        "outputId": "742b2bb8-14ca-4015-f094-bd640c093eca"
      },
      "execution_count": 33,
      "outputs": [
        {
          "output_type": "execute_result",
          "data": {
            "text/plain": [
              "0.74471426"
            ]
          },
          "metadata": {},
          "execution_count": 33
        }
      ]
    },
    {
      "cell_type": "code",
      "source": [
        "w2v_model.wv.similarity('homer', 'marge')"
      ],
      "metadata": {
        "colab": {
          "base_uri": "https://localhost:8080/"
        },
        "id": "UfActujv_wVX",
        "outputId": "ebe72532-c2bf-4d80-fc7a-37f98c67d4c3"
      },
      "execution_count": 38,
      "outputs": [
        {
          "output_type": "execute_result",
          "data": {
            "text/plain": [
              "0.7958886"
            ]
          },
          "metadata": {},
          "execution_count": 38
        }
      ]
    },
    {
      "cell_type": "code",
      "source": [
        "w2v_model.wv.similarity('homer', 'patty')"
      ],
      "metadata": {
        "colab": {
          "base_uri": "https://localhost:8080/"
        },
        "id": "8p6Ij01o_zxC",
        "outputId": "59e6b780-e0f6-473c-9c59-6dd297cbb45d"
      },
      "execution_count": 39,
      "outputs": [
        {
          "output_type": "execute_result",
          "data": {
            "text/plain": [
              "0.34921566"
            ]
          },
          "metadata": {},
          "execution_count": 39
        }
      ]
    },
    {
      "cell_type": "code",
      "source": [
        "w2v_model.wv.similarity('milhouse', 'patty')"
      ],
      "metadata": {
        "colab": {
          "base_uri": "https://localhost:8080/"
        },
        "id": "vTqdamUjC9jk",
        "outputId": "14af1f29-6979-4755-98fc-a3f03f9a9d9a"
      },
      "execution_count": 51,
      "outputs": [
        {
          "output_type": "execute_result",
          "data": {
            "text/plain": [
              "0.30685303"
            ]
          },
          "metadata": {},
          "execution_count": 51
        }
      ]
    },
    {
      "cell_type": "markdown",
      "source": [
        "## Odd-One-Out:\n",
        "\n",
        "Here, we ask our model to give us the word that does not belong to the list!"
      ],
      "metadata": {
        "id": "t6dZAGBzCGnZ"
      }
    },
    {
      "cell_type": "code",
      "source": [
        "w2v_model.wv.doesnt_match([\"nelson\", \"bart\", \"milhouse\"])"
      ],
      "metadata": {
        "colab": {
          "base_uri": "https://localhost:8080/",
          "height": 35
        },
        "id": "JzwQrA9L-_cV",
        "outputId": "4a07f543-303a-41b0-d676-bb79cc5b278e"
      },
      "execution_count": 36,
      "outputs": [
        {
          "output_type": "execute_result",
          "data": {
            "text/plain": [
              "'nelson'"
            ],
            "application/vnd.google.colaboratory.intrinsic+json": {
              "type": "string"
            }
          },
          "metadata": {},
          "execution_count": 36
        }
      ]
    },
    {
      "cell_type": "code",
      "source": [
        "w2v_model.wv.doesnt_match(['homer', 'patty', 'selma'])"
      ],
      "metadata": {
        "colab": {
          "base_uri": "https://localhost:8080/",
          "height": 35
        },
        "id": "DlBlBvcO_tR6",
        "outputId": "b0437f5f-d02c-4001-8e9f-b0de9c49d59b"
      },
      "execution_count": 37,
      "outputs": [
        {
          "output_type": "execute_result",
          "data": {
            "text/plain": [
              "'homer'"
            ],
            "application/vnd.google.colaboratory.intrinsic+json": {
              "type": "string"
            }
          },
          "metadata": {},
          "execution_count": 37
        }
      ]
    },
    {
      "cell_type": "code",
      "source": [
        "w2v_model.wv.doesnt_match(['homer', 'patty', 'selma','marge'])"
      ],
      "metadata": {
        "colab": {
          "base_uri": "https://localhost:8080/",
          "height": 35
        },
        "id": "vqQ4tZYLA_ve",
        "outputId": "79714a8e-2f5c-4945-dc7c-37afa5a3f0a6"
      },
      "execution_count": 40,
      "outputs": [
        {
          "output_type": "execute_result",
          "data": {
            "text/plain": [
              "'homer'"
            ],
            "application/vnd.google.colaboratory.intrinsic+json": {
              "type": "string"
            }
          },
          "metadata": {},
          "execution_count": 40
        }
      ]
    },
    {
      "cell_type": "markdown",
      "source": [
        "## Analogy difference:"
      ],
      "metadata": {
        "id": "eYkv8TzADVYZ"
      }
    },
    {
      "cell_type": "code",
      "source": [
        "w2v_model.wv.most_similar(positive=[\"woman\", \"bart\"], negative=[\"man\"], topn=5)"
      ],
      "metadata": {
        "colab": {
          "base_uri": "https://localhost:8080/"
        },
        "id": "X1lnB7YUDXg2",
        "outputId": "a2f9c30e-3211-4a7b-f89f-be3123542089"
      },
      "execution_count": 55,
      "outputs": [
        {
          "output_type": "execute_result",
          "data": {
            "text/plain": [
              "[('lisa', 0.7234850525856018),\n",
              " ('pregnant', 0.6973482370376587),\n",
              " ('father', 0.6964823007583618),\n",
              " ('parent', 0.691489577293396),\n",
              " ('jealous', 0.6714439392089844)]"
            ]
          },
          "metadata": {},
          "execution_count": 55
        }
      ]
    },
    {
      "cell_type": "code",
      "source": [
        "w2v_model.wv.most_similar(positive=[\"woman\", \"homer\"], negative=[\"milhouse\"], topn=3)"
      ],
      "metadata": {
        "colab": {
          "base_uri": "https://localhost:8080/"
        },
        "id": "C-4JlSEPDjEo",
        "outputId": "2efc5b61-355c-4a1d-c74e-447414342fd8"
      },
      "execution_count": 59,
      "outputs": [
        {
          "output_type": "execute_result",
          "data": {
            "text/plain": [
              "[('rude', 0.6430022716522217),\n",
              " ('wife', 0.6414204835891724),\n",
              " ('marge', 0.6134703159332275)]"
            ]
          },
          "metadata": {},
          "execution_count": 59
        }
      ]
    }
  ]
}